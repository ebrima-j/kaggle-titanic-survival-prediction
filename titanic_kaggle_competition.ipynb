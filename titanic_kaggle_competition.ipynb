{
 "cells": [
  {
   "cell_type": "code",
   "execution_count": 43,
   "id": "a9281632-568f-4116-9de1-4fdf7bf08faf",
   "metadata": {},
   "outputs": [],
   "source": [
    "import pandas as pd\n",
    "import numpy as np\n",
    "from sklearn.ensemble import RandomForestClassifier, VotingClassifier\n",
    "from sklearn.linear_model import LogisticRegression\n",
    "from sklearn.impute import SimpleImputer"
   ]
  },
  {
   "cell_type": "code",
   "execution_count": 44,
   "id": "3973eab1-f51f-4027-8594-deac8a94782f",
   "metadata": {},
   "outputs": [],
   "source": [
    "train = pd.read_csv('train.csv')\n",
    "test = pd.read_csv('test.csv')"
   ]
  },
  {
   "cell_type": "code",
   "execution_count": 45,
   "id": "e2351c0f-cf00-45b3-bd87-861786f239db",
   "metadata": {},
   "outputs": [],
   "source": [
    "#Random Forest Classifier Model\n",
    "rf = RandomForestClassifier(n_estimators=100, max_depth=5, random_state=1)"
   ]
  },
  {
   "cell_type": "code",
   "execution_count": 46,
   "id": "87ee460e-5320-4518-8b1c-479526478abc",
   "metadata": {},
   "outputs": [],
   "source": [
    "#Logistic Regression Model\n",
    "lr = LogisticRegression()"
   ]
  },
  {
   "cell_type": "code",
   "execution_count": 48,
   "id": "8925db42-0267-454b-af62-ddce81c17f6b",
   "metadata": {},
   "outputs": [],
   "source": [
    "#Voting classifier\n",
    "imputer = SimpleImputer(strategy='median') \n",
    "train[['Age']] = imputer.fit_transform(train[['Age']]) \n",
    "test[['Age']] = imputer.fit_transform(test[['Age']])    \n",
    "test[['Fare']] = imputer.fit_transform(test[['Fare']])\n",
    "\n",
    "features = ['Pclass', 'Sex', 'Fare', 'Age']\n",
    "X_train = pd.get_dummies(train[features])\n",
    "X_test = pd.get_dummies(test[features])\n",
    "\n",
    "y = train[\"Survived\"]\n",
    "\n",
    "vc = VotingClassifier(estimators=[('rf', rf), ('lr', lr)], voting='hard')\n",
    "vc.fit(X_train, y)\n",
    "\n",
    "predictions = vc.predict(X_test)\n",
    "\n",
    "output = pd.DataFrame({'PassengerId': test.PassengerId, 'Survived': predictions})\n",
    "output.to_csv('submission.csv',index=False)"
   ]
  }
 ],
 "metadata": {
  "kernelspec": {
   "display_name": "Python 3 (ipykernel)",
   "language": "python",
   "name": "python3"
  },
  "language_info": {
   "codemirror_mode": {
    "name": "ipython",
    "version": 3
   },
   "file_extension": ".py",
   "mimetype": "text/x-python",
   "name": "python",
   "nbconvert_exporter": "python",
   "pygments_lexer": "ipython3",
   "version": "3.12.5"
  }
 },
 "nbformat": 4,
 "nbformat_minor": 5
}
